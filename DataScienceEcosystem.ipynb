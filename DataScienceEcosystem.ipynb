{
 "cells": [
  {
   "cell_type": "markdown",
   "id": "7b6bd8b5-ee8f-4ca7-9f84-17bfadcb54c2",
   "metadata": {},
   "source": [
    "**Exercise 2: Create markdown cell with title of the notebook**"
   ]
  },
  {
   "cell_type": "markdown",
   "id": "d873c16a-4436-44a1-8d6e-a0ba10698fd3",
   "metadata": {},
   "source": [
    "# Data Science Tools and Ecosystem"
   ]
  },
  {
   "cell_type": "markdown",
   "id": "bc7c64df-4cd7-4fea-ab6e-a107aa672b9c",
   "metadata": {},
   "source": [
    "**Exercise 3 - Create a markdown cell for an introduction**"
   ]
  },
  {
   "cell_type": "markdown",
   "id": "aaaaa475-3947-4327-b9b3-f9e64a2945da",
   "metadata": {},
   "source": [
    "*In this notebook, Data Science Tools and Ecosystem are summarized.*"
   ]
  },
  {
   "cell_type": "markdown",
   "id": "9889999e-a2d0-4546-81e7-bfff6738aaa9",
   "metadata": {},
   "source": [
    "**Objectives:**"
   ]
  },
  {
   "cell_type": "markdown",
   "id": "885add2d-09d6-4e75-a2e5-bce4dee639ff",
   "metadata": {},
   "source": [
    "* List popular languages for Data Science;\n",
    "* List popular libraries for Data Science;\n",
    "* List popular tools for Data Science;\n",
    "* Examples of evaluating arithmetic expressions in Python."
   ]
  },
  {
   "cell_type": "markdown",
   "id": "7bee4e73-ebf6-4427-b287-3f66333d5b8d",
   "metadata": {},
   "source": [
    "**Exercise 4 - Create a markdown cell to list data science languages**"
   ]
  },
  {
   "cell_type": "markdown",
   "id": "2df191ab-85aa-4bdb-9a40-086934a6ac29",
   "metadata": {},
   "source": [
    "*Some of the popular languages that Data Scientists use are:*"
   ]
  },
  {
   "cell_type": "markdown",
   "id": "d57f0fad-5096-4c28-a29d-3952b176b0bd",
   "metadata": {},
   "source": [
    "1. Scala\n",
    "2. R\n",
    "3. Java\n",
    "4. Python\n",
    "5. SQL\n",
    "6. C++\n",
    "7. Ruby\n",
    "8. Julia\n",
    "9. JavaScript"
   ]
  },
  {
   "cell_type": "markdown",
   "id": "233a793e-d0c2-4bb6-903e-5858e0338f9d",
   "metadata": {},
   "source": [
    "**Exercise 5 - Create a markdown cell to list data science libraries**"
   ]
  },
  {
   "cell_type": "markdown",
   "id": "f93f124c-67ec-4d60-ab57-c96bb0ee6005",
   "metadata": {},
   "source": [
    "*Some of the commonly used libraries used by Data Scientists include:*"
   ]
  },
  {
   "cell_type": "markdown",
   "id": "1ba69113-ebb8-4f82-a08f-de4ec65adbc3",
   "metadata": {},
   "source": [
    "1. **Python libraries:** Pandas, NumPy, Matplotlib, Seaborn, Scikit-learn, TensorFlow, Keras, PyTorch, SciPy, etc.\n",
    "2. **R libraries:** ggplot2, dplyr, tidyr, caret, shiny, etc.\n",
    "3. **SQL tools:** MySQL, PostgreSQL, etc.\n",
    "4. **Scala libraries:** Apache Spark, Breeze, etc.\n",
    "5. **Java libraries:** Weka, Deeplearning4j, etc."
   ]
  },
  {
   "cell_type": "markdown",
   "id": "89f2af50-0ea4-4ae9-8c49-806143422c99",
   "metadata": {},
   "source": [
    "**Exercise 6 - Create a markdown cell with a table of Data Science tools**"
   ]
  },
  {
   "cell_type": "markdown",
   "id": "467c0da4-1569-42b9-bbaf-f22ad2b32e18",
   "metadata": {},
   "source": [
    "|Data Science Tools|\n",
    "--------------------\n",
    "|Hadoop File System|\n",
    "|Apache Spark|\n",
    "|Apache Kafka|\n",
    "|Apache Cassandra|\n",
    "|SQL Databases|\n",
    "|NoSQL Databases|\n",
    "|Hue|\n",
    "|Kibana|\n",
    "|TensorFlow service|\n",
    "|Jupyter Notebook|\n",
    "|RStudio|\n",
    "|Google Colab|\n",
    "|Tableau|\n",
    "|Power BI|\n",
    "|Git|\n",
    "|GitHub/GitLab/Bitbucket|"
   ]
  },
  {
   "cell_type": "markdown",
   "id": "f2b3b535-1123-4455-950d-b13b224ee837",
   "metadata": {},
   "source": [
    "**Exercise 7 - Create a markdown cell introducing arithmetic expression examples**"
   ]
  },
  {
   "cell_type": "markdown",
   "id": "8edb650a-9fd1-4130-b02d-8bdbd190512d",
   "metadata": {},
   "source": [
    "### *Below are a few examples of evaluating arithmetic expressions in Python:*"
   ]
  },
  {
   "cell_type": "markdown",
   "id": "ca31fd88-2a9e-43dd-ab63-da97c1a0a26a",
   "metadata": {},
   "source": [
    "# *Addition*\n",
    "result_add = 10 + 5\n",
    "\n",
    "print(\"10 + 5 =\", result_add)\n",
    "\n",
    "### *Subtraction*\n",
    "result_subtract = 100 - 1\n",
    "\n",
    "print(\"100 - 1 =\", result_subtract)\n",
    "\n",
    "### *Multiplication*\n",
    "result_multiply = 40 * 11\n",
    "\n",
    "print(\"40 * 11 =\", result_multiply)\n",
    "\n",
    "### *Division*\n",
    "result_divide = 55 / 5\n",
    "\n",
    "print(\"55 / 5 =\", result_divide)\n",
    "\n",
    "### *Exponentiation*\n",
    "result_exponent = 2 ** 3\n",
    "\n",
    "print(\"2 ** 3 =\", result_exponent)\n",
    "\n",
    "### *Modulus*\n",
    "result_modulus = 10 % 3\n",
    "\n",
    "print(\"10 % 3 =\", result_modulus)"
   ]
  },
  {
   "cell_type": "markdown",
   "id": "569cf956-2bf9-47b2-a993-f3d925d64366",
   "metadata": {},
   "source": [
    "**Exercise 8 - Create a code cell to multiply and add numbers**"
   ]
  },
  {
   "cell_type": "markdown",
   "id": "812b8632-ab25-4460-b3da-2b616b2abd4e",
   "metadata": {},
   "source": [
    "This is a simple arithmetic expression used to multiply and add integers."
   ]
  },
  {
   "cell_type": "code",
   "execution_count": 2,
   "id": "45ed1b8b-8b3b-4e07-a2da-6cf463650a6e",
   "metadata": {},
   "outputs": [
    {
     "name": "stdout",
     "output_type": "stream",
     "text": [
      "17\n"
     ]
    }
   ],
   "source": [
    "x=(3*4)+5\n",
    "print (x)"
   ]
  },
  {
   "cell_type": "markdown",
   "id": "2fc72e48-b9ac-491f-8a37-dbdc48e5f574",
   "metadata": {},
   "source": [
    "**Exercise 9 - Create a code cell to convert minutes to hours**"
   ]
  },
  {
   "cell_type": "code",
   "execution_count": 6,
   "id": "e3e283f3-15f2-4f15-97b3-b1a7816a9f4e",
   "metadata": {},
   "outputs": [
    {
     "name": "stdout",
     "output_type": "stream",
     "text": [
      "120 minutes is equal to 2.0 hours\n"
     ]
    }
   ],
   "source": [
    "def convert_minutes_to_hours(minutes):\n",
    "    hours = minutes / 60\n",
    "    return hours\n",
    "\n",
    "minutes = 120\n",
    "hours = convert_minutes_to_hours(minutes)\n",
    "print(f\"{minutes} minutes is equal to {hours} hours\")"
   ]
  },
  {
   "cell_type": "markdown",
   "id": "b33d3535-1f59-4af5-8def-09952bece8c2",
   "metadata": {},
   "source": [
    "**Exercise 10 - Insert a markdown cell to list Objectives**"
   ]
  },
  {
   "cell_type": "markdown",
   "id": "471f2c9f-bb6a-46ea-a545-d4e2961422b5",
   "metadata": {},
   "source": [
    "**Exercise 11 - Create a markdown cell to indicate the Author's name**"
   ]
  },
  {
   "cell_type": "markdown",
   "id": "67d4c251-5478-498a-bb6b-3fefeb5eb29e",
   "metadata": {},
   "source": [
    "## **Author**\n",
    "*Judy Tatiana Sarmiento*"
   ]
  },
  {
   "cell_type": "markdown",
   "id": "91d1d1f4-af57-402d-bad0-080fa6476810",
   "metadata": {},
   "source": [
    "**Exercise 12 - Share your notebook through GitHub**"
   ]
  },
  {
   "cell_type": "markdown",
   "id": "cd59de5f-0856-4bcf-8665-53683f35f067",
   "metadata": {},
   "source": [
    "**Exercise 13 -Take a screenshot**"
   ]
  }
 ],
 "metadata": {
  "kernelspec": {
   "display_name": "Python 3 (ipykernel)",
   "language": "python",
   "name": "python3"
  },
  "language_info": {
   "codemirror_mode": {
    "name": "ipython",
    "version": 3
   },
   "file_extension": ".py",
   "mimetype": "text/x-python",
   "name": "python",
   "nbconvert_exporter": "python",
   "pygments_lexer": "ipython3",
   "version": "3.12.4"
  }
 },
 "nbformat": 4,
 "nbformat_minor": 5
}
